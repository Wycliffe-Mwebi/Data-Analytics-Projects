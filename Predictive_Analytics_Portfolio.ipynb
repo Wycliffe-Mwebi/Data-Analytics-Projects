{
 "cells": [
  {
   "cell_type": "markdown",
   "id": "7b205767",
   "metadata": {},
   "source": [
    "# Wycliffe Mwebi\n",
    "# Data Science & Machine Learning Portfolio Projects"
   ]
  },
  {
   "cell_type": "markdown",
   "id": "6c47e9e6",
   "metadata": {},
   "source": [
    "### Predictive Analysis Projects\n",
    "\n",
    "| | Project Name  | Description    | Project Link   | \n",
    "|---:|:-------------|:-----------|:------|\n",
    "| 1 | Predicting Customer Churn  | The goal of this project is to Analyse and predict the customer churn rate for a Banking institution using Machine Learning. These predictions will allow the institution to set up a targeted strategy for customer retention.       | [Link](https://github.com/Wycliffe-Mwebi/Predictive-Analytics-Portfolio/blob/master/Bank%20Customer%20Churn%20Analysis%20%26%20Prediction/Bank%20Customer%20Churn%20Analysis%20%26%20Prediction.ipynb)   | \n",
    "| 2 | Loan Default Prediction    | In this project, I will build a machine learning model to predict the probability that a loan provided by a financial institution will charge off (default). These model could help banking institutionss make better-informed lending decisions.   | [Link](https://github.com/Wycliffe-Mwebi/Predictive-Analytics-Portfolio/blob/master/Loan-Default-Prediction/Loan%20default%20Prediction.ipynb)   |\n",
    "| 3 | Investment Analysis        | The goal of this project is to Analyse how volatility of investments affect expected returns. Does volatility of investments affect the probability of reaching various financial goals? Is it better to invest in higher-risk things while young and go lower-risk when you get older?      | [Link](https://github.com/Wycliffe-Mwebi/Predictive-Analytics-Portfolio/blob/master/investment-analysis/How%20does%20volatility%20impact%20returns%20-%20part%201.ipynb)   | \n",
    "| 4 | Stock Market Analysis      | In this project, I will analyze data from Yahoo Finance of three of the popular tech stocks to date.What was the change of price over time? What was the daily return on average of a stock? What was the moving average of various stock? What is the correlation between daily returns of different stock? How much value do we put at risk by investing in a stock? How can we attempt to predict future stock behavior?   | [Link](https://github.com/Wycliffe-Mwebi/Predictive-Analytics-portfolio/blob/master/Stock%20Market%20Analysis%20for%20Tech%20Giants/Stock%20Market%20Analysis%20for%20Tech%20Giants.ipynb)   |\n",
    "| 5 | Customer Segmentation      | In this project, I will analyze a dataset containing data on various customers annual spending amounts on diverse products. The goal is to investigate the variation in the different types of customers that a wholesale distributor interacts with. Doing so would equip the distributor with insight into how to best structure their service delivery to meet the needs of each customer.       | [Link](https://github.com/Wycliffe-Mwebi/Predictive-Analytics-Portfolio/blob/master/Customer%20Segmentation/Customer%20Segmentation.ipynb)   | \n",
    "| 6 | Cryptocurrency Market Analysis    | In this project, I will analyze data from Yahoo Finance of three popular cryptocurrencies to date. What was the change of price over time? What was the daily return on average of a stock? What was the moving average of various stock? What is the correlation between daily returns of different stock? How much value do we put at risk by investing in a stock? How can we attempt to predict future stock behavior?  | [Link](https://github.com/Wycliffe-Mwebi/Predictive-Analytics-Portfolio/blob/master/Cryptocurrency%20Market%20Analysis/Cryptocurrency%20Market%20Analysis.ipynb)   |\n",
    "| 7 | Optimizing customer acquisition funnel using A/B test      | Do you have a high number of visitors coming to your website, and only a very few are converting into customers? Do You have plenty of users who sign up for free trials, but many of them aren’t converting into paying customers?This is an indication that your customer acquisition funnel isn’t optimized.       | [Link](https://github.com/Wycliffe-Mwebi/Predictive-Analytics-Portfolio/blob/master/Optimizing%20customer%20acquisition%20funnel%20using%20A-B%20test/Optimizing%20customer%20acquisition%20funnel%20using%20A-B%20test.ipynb)   | \n",
    "| 8 | Decision Making -Using A/B tests    | The goal of this project is to support decision making for an e-commerce company by analyzing the results of an A/B test. The company needs to decide whether they should implement the new version of their web page or keep the old page, or perhaps run the experiment longer to make their decision.  | [Link](https://github.com/Wycliffe-Mwebi/Predictive-Analytics-Portfolio/blob/master/AB%20Testing%20Result%20Analyze/AB%20Testing%20Result%20Analyze.ipynb)   |"
   ]
  },
  {
   "cell_type": "code",
   "execution_count": null,
   "id": "9444ad9f",
   "metadata": {},
   "outputs": [],
   "source": []
  },
  {
   "cell_type": "code",
   "execution_count": null,
   "id": "f70b9f66",
   "metadata": {},
   "outputs": [],
   "source": []
  }
 ],
 "metadata": {
  "kernelspec": {
   "display_name": "Python 3 (ipykernel)",
   "language": "python",
   "name": "python3"
  },
  "language_info": {
   "codemirror_mode": {
    "name": "ipython",
    "version": 3
   },
   "file_extension": ".py",
   "mimetype": "text/x-python",
   "name": "python",
   "nbconvert_exporter": "python",
   "pygments_lexer": "ipython3",
   "version": "3.9.12"
  }
 },
 "nbformat": 4,
 "nbformat_minor": 5
}
